{
  "nbformat": 4,
  "nbformat_minor": 0,
  "metadata": {
    "colab": {
      "provenance": []
    },
    "kernelspec": {
      "name": "python3",
      "display_name": "Python 3"
    },
    "language_info": {
      "name": "python"
    }
  },
  "cells": [
    {
      "cell_type": "markdown",
      "source": [
        "Un vendedor recibe un sueldo base más un 10% extra por\n",
        "comisión de sus ventas, el vendedor desea saber cuánto\n",
        "dinero obtendrá por concepto de comisiones por las tres\n",
        "ventas que realiza en el mes y el total que recibirá en\n",
        "el mes tomando en cuenta su sueldo base y comisiones."
      ],
      "metadata": {
        "id": "4UbkIU2qJjS9"
      }
    },
    {
      "cell_type": "markdown",
      "source": [
        "Sesion 3 - Clase 3\n"
      ],
      "metadata": {
        "id": "ZXEml7zKVjIx"
      }
    },
    {
      "cell_type": "code",
      "source": [
        "#@title Taller Profundizacion Ejercicio 1\n",
        "venta1 = float(input(\"\\nIngrese total venta 1: $\"))\n",
        "venta2 = float(input(\"\\nIngrese total venta 2: $\"))\n",
        "venta3 = float(input(\"\\nIngrese total venta 3: $\"))\n",
        "Total_Ventas = venta1 + venta2 + venta3\n",
        "print(\"\\nEl resultado de las ventas ${:,.0f} + ${:,.0f} + ${:,.0f} es =${:,.0f}\".format(venta1, venta2, venta3, Total_Ventas))\n",
        "comision1 = venta1 * 0.10\n",
        "print(f\"\\nComision de la primera venta es = ${comision1:,.0f}\")\n",
        "comision2 = venta2 * 0.10\n",
        "print(f\"\\nComision de la Segunda venta es = ${comision2:,.0f}\")\n",
        "comision3 = venta3 * 0.10\n",
        "print(f\"\\nComision de la Tercera venta es = ${comision3:,.0f}\")\n",
        "Total_Comision = comision1 + comision2 + comision3\n",
        "print(\"\\nEl total de las comisiones ${:,.0f} + ${:,.0f} + ${:,.0f} es =${:,.0f}\".format(comision1, comision2, comision3, Total_Comision))\n",
        "sueldo = float(input(\"\\n¿Ingrese sueldo Base: $\"))\n",
        "resultado = sueldo + Total_Comision\n",
        "print(f\"\\nTotal Salario devengado mensual es de: ${resultado:,.0f}\")"
      ],
      "metadata": {
        "colab": {
          "base_uri": "https://localhost:8080/",
          "height": 399
        },
        "id": "6pV6wxQTJpVV",
        "outputId": "9a3b9f07-05c9-4802-c9be-bcdaac8aa764"
      },
      "execution_count": null,
      "outputs": [
        {
          "output_type": "error",
          "ename": "KeyboardInterrupt",
          "evalue": "ignored",
          "traceback": [
            "\u001b[0;31m---------------------------------------------------------------------------\u001b[0m",
            "\u001b[0;31mKeyboardInterrupt\u001b[0m                         Traceback (most recent call last)",
            "\u001b[0;32m<ipython-input-2-d1209e8fdd77>\u001b[0m in \u001b[0;36m<module>\u001b[0;34m\u001b[0m\n\u001b[1;32m      1\u001b[0m \u001b[0;31m#@title Taller Profundizacion Ejercicio 1\u001b[0m\u001b[0;34m\u001b[0m\u001b[0;34m\u001b[0m\u001b[0m\n\u001b[0;32m----> 2\u001b[0;31m \u001b[0mventa1\u001b[0m \u001b[0;34m=\u001b[0m \u001b[0mfloat\u001b[0m\u001b[0;34m(\u001b[0m\u001b[0minput\u001b[0m\u001b[0;34m(\u001b[0m\u001b[0;34m\"\\nIngrese total venta 1: $\"\u001b[0m\u001b[0;34m)\u001b[0m\u001b[0;34m)\u001b[0m\u001b[0;34m\u001b[0m\u001b[0;34m\u001b[0m\u001b[0m\n\u001b[0m\u001b[1;32m      3\u001b[0m \u001b[0mventa2\u001b[0m \u001b[0;34m=\u001b[0m \u001b[0mfloat\u001b[0m\u001b[0;34m(\u001b[0m\u001b[0minput\u001b[0m\u001b[0;34m(\u001b[0m\u001b[0;34m\"\\nIngrese total venta 2: $\"\u001b[0m\u001b[0;34m)\u001b[0m\u001b[0;34m)\u001b[0m\u001b[0;34m\u001b[0m\u001b[0;34m\u001b[0m\u001b[0m\n\u001b[1;32m      4\u001b[0m \u001b[0mventa3\u001b[0m \u001b[0;34m=\u001b[0m \u001b[0mfloat\u001b[0m\u001b[0;34m(\u001b[0m\u001b[0minput\u001b[0m\u001b[0;34m(\u001b[0m\u001b[0;34m\"\\nIngrese total venta 3: $\"\u001b[0m\u001b[0;34m)\u001b[0m\u001b[0;34m)\u001b[0m\u001b[0;34m\u001b[0m\u001b[0;34m\u001b[0m\u001b[0m\n\u001b[1;32m      5\u001b[0m \u001b[0mTotal_Ventas\u001b[0m \u001b[0;34m=\u001b[0m \u001b[0mventa1\u001b[0m \u001b[0;34m+\u001b[0m \u001b[0mventa2\u001b[0m \u001b[0;34m+\u001b[0m \u001b[0mventa3\u001b[0m\u001b[0;34m\u001b[0m\u001b[0;34m\u001b[0m\u001b[0m\n",
            "\u001b[0;32m/usr/local/lib/python3.9/dist-packages/ipykernel/kernelbase.py\u001b[0m in \u001b[0;36mraw_input\u001b[0;34m(self, prompt)\u001b[0m\n\u001b[1;32m    858\u001b[0m                 \u001b[0;34m\"raw_input was called, but this frontend does not support input requests.\"\u001b[0m\u001b[0;34m\u001b[0m\u001b[0;34m\u001b[0m\u001b[0m\n\u001b[1;32m    859\u001b[0m             )\n\u001b[0;32m--> 860\u001b[0;31m         return self._input_request(str(prompt),\n\u001b[0m\u001b[1;32m    861\u001b[0m             \u001b[0mself\u001b[0m\u001b[0;34m.\u001b[0m\u001b[0m_parent_ident\u001b[0m\u001b[0;34m,\u001b[0m\u001b[0;34m\u001b[0m\u001b[0;34m\u001b[0m\u001b[0m\n\u001b[1;32m    862\u001b[0m             \u001b[0mself\u001b[0m\u001b[0;34m.\u001b[0m\u001b[0m_parent_header\u001b[0m\u001b[0;34m,\u001b[0m\u001b[0;34m\u001b[0m\u001b[0;34m\u001b[0m\u001b[0m\n",
            "\u001b[0;32m/usr/local/lib/python3.9/dist-packages/ipykernel/kernelbase.py\u001b[0m in \u001b[0;36m_input_request\u001b[0;34m(self, prompt, ident, parent, password)\u001b[0m\n\u001b[1;32m    902\u001b[0m             \u001b[0;32mexcept\u001b[0m \u001b[0mKeyboardInterrupt\u001b[0m\u001b[0;34m:\u001b[0m\u001b[0;34m\u001b[0m\u001b[0;34m\u001b[0m\u001b[0m\n\u001b[1;32m    903\u001b[0m                 \u001b[0;31m# re-raise KeyboardInterrupt, to truncate traceback\u001b[0m\u001b[0;34m\u001b[0m\u001b[0;34m\u001b[0m\u001b[0m\n\u001b[0;32m--> 904\u001b[0;31m                 \u001b[0;32mraise\u001b[0m \u001b[0mKeyboardInterrupt\u001b[0m\u001b[0;34m(\u001b[0m\u001b[0;34m\"Interrupted by user\"\u001b[0m\u001b[0;34m)\u001b[0m \u001b[0;32mfrom\u001b[0m \u001b[0;32mNone\u001b[0m\u001b[0;34m\u001b[0m\u001b[0;34m\u001b[0m\u001b[0m\n\u001b[0m\u001b[1;32m    905\u001b[0m             \u001b[0;32mexcept\u001b[0m \u001b[0mException\u001b[0m \u001b[0;32mas\u001b[0m \u001b[0me\u001b[0m\u001b[0;34m:\u001b[0m\u001b[0;34m\u001b[0m\u001b[0;34m\u001b[0m\u001b[0m\n\u001b[1;32m    906\u001b[0m                 \u001b[0mself\u001b[0m\u001b[0;34m.\u001b[0m\u001b[0mlog\u001b[0m\u001b[0;34m.\u001b[0m\u001b[0mwarning\u001b[0m\u001b[0;34m(\u001b[0m\u001b[0;34m\"Invalid Message:\"\u001b[0m\u001b[0;34m,\u001b[0m \u001b[0mexc_info\u001b[0m\u001b[0;34m=\u001b[0m\u001b[0;32mTrue\u001b[0m\u001b[0;34m)\u001b[0m\u001b[0;34m\u001b[0m\u001b[0;34m\u001b[0m\u001b[0m\n",
            "\u001b[0;31mKeyboardInterrupt\u001b[0m: Interrupted by user"
          ]
        }
      ]
    },
    {
      "cell_type": "markdown",
      "source": [
        "Una tienda ofrece un descuento del 15% sobre el total\n",
        "de la compra y un cliente desea saber cuánto deberá\n",
        "pagar finalmente por su compra."
      ],
      "metadata": {
        "id": "3Ckyvlo3h4k-"
      }
    },
    {
      "cell_type": "code",
      "source": [
        "#@title Taller Profundizacion  Ejercicio 2\n",
        "compra = int(input(\"\\nValor Total compra: $\"))\n",
        "descuento = compra * 0.15\n",
        "resultado = compra - descuento\n",
        "print(f\"\\nGanaste 15% de descuento.\")\n",
        "print(f\"\\nTotal descuento ${descuento:,.0f}\")\n",
        "print(f\"\\nTotal a pagar ${resultado:,.0f}\")\n",
        "print(\"\\nGracias por preferirnos\")"
      ],
      "metadata": {
        "colab": {
          "base_uri": "https://localhost:8080/"
        },
        "id": "RqMXagYFh6uo",
        "outputId": "775b806e-7ac2-409e-b866-b8ca6f036c4c"
      },
      "execution_count": null,
      "outputs": [
        {
          "output_type": "stream",
          "name": "stdout",
          "text": [
            "\n",
            "Valor Total compra: $1500054563\n",
            "\n",
            "Ganaste 15% de descuento.\n",
            "\n",
            "Total descuento $225,008,184\n",
            "\n",
            "Total a pagar $1,275,046,379\n",
            "\n",
            "Gracias por preferirnos\n"
          ]
        }
      ]
    },
    {
      "cell_type": "markdown",
      "source": [
        "Un alumno desea saber cuál será su calificación final en\n",
        "la materia de Algoritmos. Dicha calificación se compone\n",
        "de tres exámenes parciales."
      ],
      "metadata": {
        "id": "YSlQkG_aJfHy"
      }
    },
    {
      "cell_type": "code",
      "source": [
        "#@title Taller Profundizacion  Ejercicio 3\n",
        "calificacion1 = float(input(\"\\nValor Calificacion 1: \"))\n",
        "calificacion2 = float(input(\"\\nValor Calificacion 2: \"))\n",
        "calificacion3 = float(input(\"\\nValor Calificacion 3: \"))\n",
        "Suma_calificaciones = calificacion1 + calificacion2 + calificacion3\n",
        "print(\"\\nResultado Calificaciones {} + {} + {} es = {}\".format(calificacion1, calificacion2, calificacion3, Suma_calificaciones))\n",
        "Cant = 3\n",
        "Calificacion_final = (Suma_calificaciones / Cant)\n",
        "print(f\"\\nTotal Calificacion final de la Materia Algoritmos es= {Calificacion_final:,.1f}\")\n"
      ],
      "metadata": {
        "colab": {
          "base_uri": "https://localhost:8080/"
        },
        "id": "LCM_wzJOJkKB",
        "outputId": "a3102e84-ba57-430f-b1d9-8a7d3842a199"
      },
      "execution_count": null,
      "outputs": [
        {
          "output_type": "stream",
          "name": "stdout",
          "text": [
            "\n",
            "Valor Calificacion 1: 5.7\n",
            "\n",
            "Valor Calificacion 2: 4.2\n",
            "\n",
            "Valor Calificacion 3: 8.0\n",
            "\n",
            "Resultado Calificaciones 5.7 + 4.2 + 8.0 es = 17.9\n",
            "\n",
            "Total Calificacion final de la Materia Algoritmos es= 6.0\n"
          ]
        }
      ]
    },
    {
      "cell_type": "markdown",
      "source": [
        "Un maestro desea saber qué porcentaje de hombres y que\n",
        "porcentaje de mujeres hay en un grupo de estudiantes."
      ],
      "metadata": {
        "id": "dHZn4l-Hi9vN"
      }
    },
    {
      "cell_type": "code",
      "source": [
        "#@title Taller Profundizacion  Ejercicio 4\n",
        "Cant_H =int(input(\"\\nIngrese Cantidad de Estudiantes Hombres \"))\n",
        "Cant_M =int(input(\"\\nIngrese Cantidad de Estudiantes Mujeres \"))\n",
        "print(\"\\nTotal Estudiantes Hombres {}\".format(Cant_H))\n",
        "print(\"\\nTotal Estudiantes Mujeres {}\".format(Cant_M))\n",
        "Total_Grupo = Cant_H + Cant_M\n",
        "print(\"\\nTotal Grupo de Estudiantes es = {}\".format(Total_Grupo))\n",
        "Porc_H = (Cant_H / Total_Grupo *100)\n",
        "Porc_M = (Cant_M / Total_Grupo *100)\n",
        "print(f\"\\nPorcentaje de Hombres es= {Porc_H:,.1f}\")\n",
        "print(f\"\\nPorcentaje de Mujeres es= {Porc_M:,.1f}\")\n",
        "Total_Porcentaje = Porc_H + Porc_M\n",
        "print(f\"\\nTotal Porcentaje = {Total_Porcentaje:,.0f}\")"
      ],
      "metadata": {
        "colab": {
          "base_uri": "https://localhost:8080/"
        },
        "id": "YEfEIwtGjCfM",
        "outputId": "363209a5-dcf1-4b99-c2f9-2509373d3be0"
      },
      "execution_count": null,
      "outputs": [
        {
          "output_type": "stream",
          "name": "stdout",
          "text": [
            "\n",
            "Ingrese Cantidad de Estudiantes Hombres 7\n",
            "\n",
            "Ingrese Cantidad de Estudiantes Mujeres 19\n",
            "\n",
            "Total Estudiantes Hombres 7\n",
            "\n",
            "Total Estudiantes Mujeres 19\n",
            "\n",
            "Total Grupo de Estudiantes es = 26\n",
            "\n",
            "Porcentaje de Hombres es= 26.9\n",
            "\n",
            "Porcentaje de Mujeres es= 73.1\n",
            "\n",
            "Total Porcentaje = 100\n"
          ]
        }
      ]
    },
    {
      "cell_type": "markdown",
      "source": [
        "Taller profundizacion Ejercicio 2\n"
      ],
      "metadata": {
        "id": "PajJNyT9IBlK"
      }
    },
    {
      "cell_type": "markdown",
      "source": [
        "1.Se necesita un sistema que despliega una tabla de multiplicar de un número dado por el usuario. ciclo for"
      ],
      "metadata": {
        "id": "mN-jua92IQtB"
      }
    },
    {
      "cell_type": "code",
      "source": [
        "num = int(input(\"Digite el numero de la tabla de multiplicar: \"))\n",
        "\n",
        "for i in range(11):\n",
        "  print(i, \" x \",num, \" = \", i* num)"
      ],
      "metadata": {
        "id": "TO4plwwCIKNH",
        "colab": {
          "base_uri": "https://localhost:8080/"
        },
        "outputId": "2f4a7669-3d9b-46f6-d3cc-30ab94661f59"
      },
      "execution_count": 2,
      "outputs": [
        {
          "output_type": "stream",
          "name": "stdout",
          "text": [
            "Digite el numero de la tabla de multiplicar: 2\n",
            "0  x  2  =  0\n",
            "1  x  2  =  2\n",
            "2  x  2  =  4\n",
            "3  x  2  =  6\n",
            "4  x  2  =  8\n",
            "5  x  2  =  10\n",
            "6  x  2  =  12\n",
            "7  x  2  =  14\n",
            "8  x  2  =  16\n",
            "9  x  2  =  18\n",
            "10  x  2  =  20\n"
          ]
        }
      ]
    },
    {
      "cell_type": "markdown",
      "source": [
        "2.Se necesita un sistema que pida un sueldo de un trabajador, si el sueldo es mayor a 655000, no tedrá ninguna bonificación, pero si es menor tiene bonificación del 4%. Al final se desea saber el total del sueldo con o sin bonificación. Preguntar si desea ejecutar de nuevo el programa con el ciclo while."
      ],
      "metadata": {
        "id": "s_YbVQWCIWp2"
      }
    },
    {
      "cell_type": "code",
      "source": [
        "ejecuta = \"si\"\n",
        "while ejecuta == \"si\" or ejecuta == \"s\" or ejecuta == \"SI\":\n",
        "\n",
        "  Sueldo = int(input(\"Ingrese su sueldo = $\"))\n",
        "\n",
        "  if Sueldo > 655000:\n",
        "    boni1 = 0\n",
        "    Sueldo_total = boni1 + Sueldo\n",
        "    print(\"\\nNo obtienes bonificacion = Tu salario es de ${:,.0f}\".format(Sueldo_total))\n",
        "  elif Sueldo <= 655000:\n",
        "    boni2 = Sueldo * 0.04\n",
        "    Sueldo_total2 = boni2 + Sueldo\n",
        "    print(\"\\nObtuviste una comision del 4% = Tu salario es de ${:,.0f}\".format(Sueldo_total2))\n",
        "\n",
        "\n",
        "\n",
        "#while:\n",
        "  #print(\"No obtienes comision\")"
      ],
      "metadata": {
        "id": "7En9xlgEIdT9",
        "colab": {
          "base_uri": "https://localhost:8080/",
          "height": 510
        },
        "outputId": "5a8b88ab-eaf5-4ee5-9379-ef37f8cececc"
      },
      "execution_count": 5,
      "outputs": [
        {
          "output_type": "stream",
          "name": "stdout",
          "text": [
            "Ingrese su sueldo = $640000\n",
            "\n",
            "Obtuviste una comision del 4% = Tu salario es de $665,600\n",
            "Ingrese su sueldo = $655000\n",
            "\n",
            "Obtuviste una comision del 4% = Tu salario es de $681,200\n"
          ]
        },
        {
          "output_type": "error",
          "ename": "KeyboardInterrupt",
          "evalue": "ignored",
          "traceback": [
            "\u001b[0;31m---------------------------------------------------------------------------\u001b[0m",
            "\u001b[0;31mKeyboardInterrupt\u001b[0m                         Traceback (most recent call last)",
            "\u001b[0;32m<ipython-input-5-4fd81d4bc30c>\u001b[0m in \u001b[0;36m<module>\u001b[0;34m\u001b[0m\n\u001b[1;32m      2\u001b[0m \u001b[0;32mwhile\u001b[0m \u001b[0mejecuta\u001b[0m \u001b[0;34m==\u001b[0m \u001b[0;34m\"si\"\u001b[0m \u001b[0;32mor\u001b[0m \u001b[0mejecuta\u001b[0m \u001b[0;34m==\u001b[0m \u001b[0;34m\"s\"\u001b[0m \u001b[0;32mor\u001b[0m \u001b[0mejecutar\u001b[0m \u001b[0;34m==\u001b[0m \u001b[0;34m\"SI\"\u001b[0m\u001b[0;34m:\u001b[0m\u001b[0;34m\u001b[0m\u001b[0;34m\u001b[0m\u001b[0m\n\u001b[1;32m      3\u001b[0m \u001b[0;34m\u001b[0m\u001b[0m\n\u001b[0;32m----> 4\u001b[0;31m   \u001b[0mSueldo\u001b[0m \u001b[0;34m=\u001b[0m \u001b[0mint\u001b[0m\u001b[0;34m(\u001b[0m\u001b[0minput\u001b[0m\u001b[0;34m(\u001b[0m\u001b[0;34m\"Ingrese su sueldo = $\"\u001b[0m\u001b[0;34m)\u001b[0m\u001b[0;34m)\u001b[0m\u001b[0;34m\u001b[0m\u001b[0;34m\u001b[0m\u001b[0m\n\u001b[0m\u001b[1;32m      5\u001b[0m \u001b[0;34m\u001b[0m\u001b[0m\n\u001b[1;32m      6\u001b[0m   \u001b[0;32mif\u001b[0m \u001b[0mSueldo\u001b[0m \u001b[0;34m>\u001b[0m \u001b[0;36m655000\u001b[0m\u001b[0;34m:\u001b[0m\u001b[0;34m\u001b[0m\u001b[0;34m\u001b[0m\u001b[0m\n",
            "\u001b[0;32m/usr/local/lib/python3.9/dist-packages/ipykernel/kernelbase.py\u001b[0m in \u001b[0;36mraw_input\u001b[0;34m(self, prompt)\u001b[0m\n\u001b[1;32m    858\u001b[0m                 \u001b[0;34m\"raw_input was called, but this frontend does not support input requests.\"\u001b[0m\u001b[0;34m\u001b[0m\u001b[0;34m\u001b[0m\u001b[0m\n\u001b[1;32m    859\u001b[0m             )\n\u001b[0;32m--> 860\u001b[0;31m         return self._input_request(str(prompt),\n\u001b[0m\u001b[1;32m    861\u001b[0m             \u001b[0mself\u001b[0m\u001b[0;34m.\u001b[0m\u001b[0m_parent_ident\u001b[0m\u001b[0;34m,\u001b[0m\u001b[0;34m\u001b[0m\u001b[0;34m\u001b[0m\u001b[0m\n\u001b[1;32m    862\u001b[0m             \u001b[0mself\u001b[0m\u001b[0;34m.\u001b[0m\u001b[0m_parent_header\u001b[0m\u001b[0;34m,\u001b[0m\u001b[0;34m\u001b[0m\u001b[0;34m\u001b[0m\u001b[0m\n",
            "\u001b[0;32m/usr/local/lib/python3.9/dist-packages/ipykernel/kernelbase.py\u001b[0m in \u001b[0;36m_input_request\u001b[0;34m(self, prompt, ident, parent, password)\u001b[0m\n\u001b[1;32m    902\u001b[0m             \u001b[0;32mexcept\u001b[0m \u001b[0mKeyboardInterrupt\u001b[0m\u001b[0;34m:\u001b[0m\u001b[0;34m\u001b[0m\u001b[0;34m\u001b[0m\u001b[0m\n\u001b[1;32m    903\u001b[0m                 \u001b[0;31m# re-raise KeyboardInterrupt, to truncate traceback\u001b[0m\u001b[0;34m\u001b[0m\u001b[0;34m\u001b[0m\u001b[0m\n\u001b[0;32m--> 904\u001b[0;31m                 \u001b[0;32mraise\u001b[0m \u001b[0mKeyboardInterrupt\u001b[0m\u001b[0;34m(\u001b[0m\u001b[0;34m\"Interrupted by user\"\u001b[0m\u001b[0;34m)\u001b[0m \u001b[0;32mfrom\u001b[0m \u001b[0;32mNone\u001b[0m\u001b[0;34m\u001b[0m\u001b[0;34m\u001b[0m\u001b[0m\n\u001b[0m\u001b[1;32m    905\u001b[0m             \u001b[0;32mexcept\u001b[0m \u001b[0mException\u001b[0m \u001b[0;32mas\u001b[0m \u001b[0me\u001b[0m\u001b[0;34m:\u001b[0m\u001b[0;34m\u001b[0m\u001b[0;34m\u001b[0m\u001b[0m\n\u001b[1;32m    906\u001b[0m                 \u001b[0mself\u001b[0m\u001b[0;34m.\u001b[0m\u001b[0mlog\u001b[0m\u001b[0;34m.\u001b[0m\u001b[0mwarning\u001b[0m\u001b[0;34m(\u001b[0m\u001b[0;34m\"Invalid Message:\"\u001b[0m\u001b[0;34m,\u001b[0m \u001b[0mexc_info\u001b[0m\u001b[0;34m=\u001b[0m\u001b[0;32mTrue\u001b[0m\u001b[0;34m)\u001b[0m\u001b[0;34m\u001b[0m\u001b[0;34m\u001b[0m\u001b[0m\n",
            "\u001b[0;31mKeyboardInterrupt\u001b[0m: Interrupted by user"
          ]
        }
      ]
    },
    {
      "cell_type": "code",
      "source": [
        "#@title, Lanzamiento\n",
        "\n",
        "ejecuta = \"si\"\n",
        "while ejecuta == \"si\" or ejecuta == \"s\" or ejecuta == \"SI\":\n",
        "\n",
        "  Sueldo = int(input(\"\\nIngrese su sueldo = $\"))\n",
        "\n",
        "  if Sueldo <= 655000:\n",
        "    boni = Sueldo * 0.04\n",
        "    Sueldo_total = boni + Sueldo\n",
        "    print(\"\\nObtuviste una comision del 4% = Tu salario es de ${:,.0f}\".format(Sueldo_total))\n",
        "  \n",
        "  else: \n",
        "    Sueldo_total = Sueldo\n",
        "    print(\"\\nNo obtienes bonificacion = Tu salario es de ${:,.0f}\".format(Sueldo_total))\n",
        "  ejecuta = input(\"\\nDesea ejecutar de nuevo el programa: \")\n"
      ],
      "metadata": {
        "colab": {
          "base_uri": "https://localhost:8080/"
        },
        "id": "nRYKXyWzqoWX",
        "outputId": "b07e7304-e973-4484-d466-32d5b26ae5ea"
      },
      "execution_count": null,
      "outputs": [
        {
          "output_type": "stream",
          "name": "stdout",
          "text": [
            "\n",
            "Ingrese su sueldo = $640000\n",
            "\n",
            "Obtuviste una comision del 4% = Tu salario es de $665,600\n",
            "\n",
            "Desea ejecutar de nuevo el programa: si\n",
            "\n",
            "Ingrese su sueldo = $655000\n",
            "\n",
            "Obtuviste una comision del 4% = Tu salario es de $681,200\n"
          ]
        }
      ]
    },
    {
      "cell_type": "markdown",
      "source": [
        "3.Un maestro necesita un sistema para capturar las calificaciones de 5 parciales de sus alumnos, después recapturarlas necesita que se despliegue el promedio, cuando ya no quiera capturar más alumnos, necesita que se despliegue el promedio general de todos los alumnos capturados. Preguntar si desea ejecutar de nuevo el programa con el ciclo while."
      ],
      "metadata": {
        "id": "kxcnutXAIdvZ"
      }
    },
    {
      "cell_type": "code",
      "source": [
        "resp = \"si\"\n",
        "while resp == \"si\" or resp == \"s\" or resp == \"SI\" or resp == \"YES\" or resp == \"yes\" or resp == \"Y\" or resp ==\"y\": \n",
        "\n",
        "  cal1 = float(input(\"Digite la calificacion 1: \"))\n",
        "  cal2 = float(input(\"Digite la calificacion 2: \"))\n",
        "  cal3 = float(input(\"Digite la calificacion 3: \"))\n",
        "  cal4 = float(input(\"Digite la calificacion 4: \"))\n",
        "  cal5 = float(input(\"Digite la calificacion 5: \"))\n",
        "\n",
        "  promedio = round((cal1 + cal2 + cal3 + cal4 + cal5)/5, 2)\n",
        "\n",
        "  if promedio >= 3.0:\n",
        "    estado = \"Aprobado++\"\n",
        "  else:\n",
        "    estado = \"reprobado--\"\n",
        "  print(f\"el promedio es= {promedio} y el estado es= {estado}\")\n",
        "  resp = input(\"Desea ingresar otras 5 calificaciones: \")"
      ],
      "metadata": {
        "id": "GzKp-0Z8IhM5",
        "colab": {
          "base_uri": "https://localhost:8080/"
        },
        "outputId": "6113279e-88c7-4e49-9e25-93183b07545e"
      },
      "execution_count": 1,
      "outputs": [
        {
          "name": "stdout",
          "output_type": "stream",
          "text": [
            "Digite la calificacion 1: 3.0\n",
            "Digite la calificacion 2: 4.1\n",
            "Digite la calificacion 3: 2.1\n",
            "Digite la calificacion 4: 1.7\n",
            "Digite la calificacion 5: 1.0\n",
            "el promedio es= 2.38 y el estado es= reprobado--\n",
            "Desea ingresar otras 5 calificaciones: s\n",
            "Digite la calificacion 1: 3.0\n",
            "Digite la calificacion 2: 3.2\n",
            "Digite la calificacion 3: 4.2\n",
            "Digite la calificacion 4: 5.0\n",
            "Digite la calificacion 5: 4.3\n",
            "el promedio es= 3.94 y el estado es= Aprobado++\n",
            "Desea ingresar otras 5 calificaciones: n\n"
          ]
        }
      ]
    },
    {
      "cell_type": "markdown",
      "source": [
        "4.Crear un bucle que cuente todos los números pares hasta el 100 ciclo for"
      ],
      "metadata": {
        "id": "QBa5xp0NJ_V-"
      }
    },
    {
      "cell_type": "code",
      "source": [
        "for i in range(2,101,2):\n",
        "  print(i)"
      ],
      "metadata": {
        "colab": {
          "base_uri": "https://localhost:8080/"
        },
        "id": "sZdSs8JWKE3S",
        "outputId": "1004a47a-09d7-4cdb-8089-eb8a3035a4e9"
      },
      "execution_count": null,
      "outputs": [
        {
          "output_type": "stream",
          "name": "stdout",
          "text": [
            "2\n",
            "4\n",
            "6\n",
            "8\n",
            "10\n",
            "12\n",
            "14\n",
            "16\n",
            "18\n",
            "20\n",
            "22\n",
            "24\n",
            "26\n",
            "28\n",
            "30\n",
            "32\n",
            "34\n",
            "36\n",
            "38\n",
            "40\n",
            "42\n",
            "44\n",
            "46\n",
            "48\n",
            "50\n",
            "52\n",
            "54\n",
            "56\n",
            "58\n",
            "60\n",
            "62\n",
            "64\n",
            "66\n",
            "68\n",
            "70\n",
            "72\n",
            "74\n",
            "76\n",
            "78\n",
            "80\n",
            "82\n",
            "84\n",
            "86\n",
            "88\n",
            "90\n",
            "92\n",
            "94\n",
            "96\n",
            "98\n",
            "100\n"
          ]
        }
      ]
    },
    {
      "cell_type": "markdown",
      "source": [
        "5.Haz una tabla de multiplicar utilizando el ciclo for ciclo for"
      ],
      "metadata": {
        "id": "g1UmAeHcL_v8"
      }
    },
    {
      "cell_type": "code",
      "source": [
        "num = 2\n",
        "\n",
        "for i in range(101):\n",
        "  print(i, \" x \",num, \" = \", i* num)\n"
      ],
      "metadata": {
        "colab": {
          "base_uri": "https://localhost:8080/"
        },
        "id": "ZNVJs6LdMCXA",
        "outputId": "c193efd9-b93c-47e5-a0b6-518dcd1df7da"
      },
      "execution_count": null,
      "outputs": [
        {
          "output_type": "stream",
          "name": "stdout",
          "text": [
            "0  x  2  =  0\n",
            "1  x  2  =  2\n",
            "2  x  2  =  4\n",
            "3  x  2  =  6\n",
            "4  x  2  =  8\n",
            "5  x  2  =  10\n",
            "6  x  2  =  12\n",
            "7  x  2  =  14\n",
            "8  x  2  =  16\n",
            "9  x  2  =  18\n",
            "10  x  2  =  20\n",
            "11  x  2  =  22\n",
            "12  x  2  =  24\n",
            "13  x  2  =  26\n",
            "14  x  2  =  28\n",
            "15  x  2  =  30\n",
            "16  x  2  =  32\n",
            "17  x  2  =  34\n",
            "18  x  2  =  36\n",
            "19  x  2  =  38\n",
            "20  x  2  =  40\n",
            "21  x  2  =  42\n",
            "22  x  2  =  44\n",
            "23  x  2  =  46\n",
            "24  x  2  =  48\n",
            "25  x  2  =  50\n",
            "26  x  2  =  52\n",
            "27  x  2  =  54\n",
            "28  x  2  =  56\n",
            "29  x  2  =  58\n",
            "30  x  2  =  60\n",
            "31  x  2  =  62\n",
            "32  x  2  =  64\n",
            "33  x  2  =  66\n",
            "34  x  2  =  68\n",
            "35  x  2  =  70\n",
            "36  x  2  =  72\n",
            "37  x  2  =  74\n",
            "38  x  2  =  76\n",
            "39  x  2  =  78\n",
            "40  x  2  =  80\n",
            "41  x  2  =  82\n",
            "42  x  2  =  84\n",
            "43  x  2  =  86\n",
            "44  x  2  =  88\n",
            "45  x  2  =  90\n",
            "46  x  2  =  92\n",
            "47  x  2  =  94\n",
            "48  x  2  =  96\n",
            "49  x  2  =  98\n",
            "50  x  2  =  100\n",
            "51  x  2  =  102\n",
            "52  x  2  =  104\n",
            "53  x  2  =  106\n",
            "54  x  2  =  108\n",
            "55  x  2  =  110\n",
            "56  x  2  =  112\n",
            "57  x  2  =  114\n",
            "58  x  2  =  116\n",
            "59  x  2  =  118\n",
            "60  x  2  =  120\n",
            "61  x  2  =  122\n",
            "62  x  2  =  124\n",
            "63  x  2  =  126\n",
            "64  x  2  =  128\n",
            "65  x  2  =  130\n",
            "66  x  2  =  132\n",
            "67  x  2  =  134\n",
            "68  x  2  =  136\n",
            "69  x  2  =  138\n",
            "70  x  2  =  140\n",
            "71  x  2  =  142\n",
            "72  x  2  =  144\n",
            "73  x  2  =  146\n",
            "74  x  2  =  148\n",
            "75  x  2  =  150\n",
            "76  x  2  =  152\n",
            "77  x  2  =  154\n",
            "78  x  2  =  156\n",
            "79  x  2  =  158\n",
            "80  x  2  =  160\n",
            "81  x  2  =  162\n",
            "82  x  2  =  164\n",
            "83  x  2  =  166\n",
            "84  x  2  =  168\n",
            "85  x  2  =  170\n",
            "86  x  2  =  172\n",
            "87  x  2  =  174\n",
            "88  x  2  =  176\n",
            "89  x  2  =  178\n",
            "90  x  2  =  180\n",
            "91  x  2  =  182\n",
            "92  x  2  =  184\n",
            "93  x  2  =  186\n",
            "94  x  2  =  188\n",
            "95  x  2  =  190\n",
            "96  x  2  =  192\n",
            "97  x  2  =  194\n",
            "98  x  2  =  196\n",
            "99  x  2  =  198\n",
            "100  x  2  =  200\n"
          ]
        }
      ]
    },
    {
      "cell_type": "markdown",
      "source": [
        "6.Escribir un programa que pregunte al usuario su edad y muestre por pantalla todos los años que ha cumplido (desde 1 hasta su edad). ciclo for"
      ],
      "metadata": {
        "id": "q8Azm_HrNZbb"
      }
    },
    {
      "cell_type": "code",
      "source": [
        "edad = int(input(\"\\n¿Que edad tienes?: Yo tengo \"))\n",
        "\n",
        "for i in range(edad):\n",
        "  print(\"\\nHa Cumplido un total de \" + str(i+1) + \" Años\")\n",
        "\n"
      ],
      "metadata": {
        "colab": {
          "base_uri": "https://localhost:8080/"
        },
        "id": "-eGT6qMQNeud",
        "outputId": "8d415c51-10e0-4fa9-dd6b-d4f7f621aae0"
      },
      "execution_count": null,
      "outputs": [
        {
          "output_type": "stream",
          "name": "stdout",
          "text": [
            "\n",
            "¿Que edad tienes?: Yo tengo 43\n",
            "\n",
            "Ha Cumplido un total de 1 Años\n",
            "\n",
            "Ha Cumplido un total de 2 Años\n",
            "\n",
            "Ha Cumplido un total de 3 Años\n",
            "\n",
            "Ha Cumplido un total de 4 Años\n",
            "\n",
            "Ha Cumplido un total de 5 Años\n",
            "\n",
            "Ha Cumplido un total de 6 Años\n",
            "\n",
            "Ha Cumplido un total de 7 Años\n",
            "\n",
            "Ha Cumplido un total de 8 Años\n",
            "\n",
            "Ha Cumplido un total de 9 Años\n",
            "\n",
            "Ha Cumplido un total de 10 Años\n",
            "\n",
            "Ha Cumplido un total de 11 Años\n",
            "\n",
            "Ha Cumplido un total de 12 Años\n",
            "\n",
            "Ha Cumplido un total de 13 Años\n",
            "\n",
            "Ha Cumplido un total de 14 Años\n",
            "\n",
            "Ha Cumplido un total de 15 Años\n",
            "\n",
            "Ha Cumplido un total de 16 Años\n",
            "\n",
            "Ha Cumplido un total de 17 Años\n",
            "\n",
            "Ha Cumplido un total de 18 Años\n",
            "\n",
            "Ha Cumplido un total de 19 Años\n",
            "\n",
            "Ha Cumplido un total de 20 Años\n",
            "\n",
            "Ha Cumplido un total de 21 Años\n",
            "\n",
            "Ha Cumplido un total de 22 Años\n",
            "\n",
            "Ha Cumplido un total de 23 Años\n",
            "\n",
            "Ha Cumplido un total de 24 Años\n",
            "\n",
            "Ha Cumplido un total de 25 Años\n",
            "\n",
            "Ha Cumplido un total de 26 Años\n",
            "\n",
            "Ha Cumplido un total de 27 Años\n",
            "\n",
            "Ha Cumplido un total de 28 Años\n",
            "\n",
            "Ha Cumplido un total de 29 Años\n",
            "\n",
            "Ha Cumplido un total de 30 Años\n",
            "\n",
            "Ha Cumplido un total de 31 Años\n",
            "\n",
            "Ha Cumplido un total de 32 Años\n",
            "\n",
            "Ha Cumplido un total de 33 Años\n",
            "\n",
            "Ha Cumplido un total de 34 Años\n",
            "\n",
            "Ha Cumplido un total de 35 Años\n",
            "\n",
            "Ha Cumplido un total de 36 Años\n",
            "\n",
            "Ha Cumplido un total de 37 Años\n",
            "\n",
            "Ha Cumplido un total de 38 Años\n",
            "\n",
            "Ha Cumplido un total de 39 Años\n",
            "\n",
            "Ha Cumplido un total de 40 Años\n",
            "\n",
            "Ha Cumplido un total de 41 Años\n",
            "\n",
            "Ha Cumplido un total de 42 Años\n",
            "\n",
            "Ha Cumplido un total de 43 Años\n"
          ]
        }
      ]
    }
  ]
}