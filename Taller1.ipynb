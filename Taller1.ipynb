{
  "nbformat": 4,
  "nbformat_minor": 0,
  "metadata": {
    "colab": {
      "provenance": []
    },
    "kernelspec": {
      "name": "python3",
      "display_name": "Python 3"
    },
    "language_info": {
      "name": "python"
    }
  },
  "cells": [
    {
      "cell_type": "markdown",
      "source": [
        "Variables"
      ],
      "metadata": {
        "id": "y8Hl5qqZFnBa"
      }
    },
    {
      "cell_type": "code",
      "execution_count": null,
      "metadata": {
        "colab": {
          "base_uri": "https://localhost:8080/"
        },
        "id": "OEy93ZVvElsh",
        "outputId": "649debc9-628b-4ba3-b333-beea582b09fb"
      },
      "outputs": [
        {
          "output_type": "stream",
          "name": "stdout",
          "text": [
            "12345678\n",
            "Luis Giovanny Perez Bulla\n",
            "Cra 19 # 40 - 72\n",
            "310310310\n",
            "Union Libre\n",
            "2\n",
            "183 cm\n",
            "15/06/2005\n",
            "525 USD\n",
            "15\n"
          ]
        },
        {
          "output_type": "execute_result",
          "data": {
            "text/plain": [
              "str"
            ]
          },
          "metadata": {},
          "execution_count": 19
        }
      ],
      "source": [
        "#@title Taller 1\n",
        "NumIdentificacion = 12345678\n",
        "print(NumIdentificacion)\n",
        "Nombres = \"Luis Giovanny\"\n",
        "Apellidos = \"Perez Bulla\"\n",
        "print(Nombres + \" \" + Apellidos)\n",
        "Direccion = \"Cra 19 # 40 - 72\"\n",
        "print(Direccion)\n",
        "Telefono = 310310310\n",
        "print(Telefono)\n",
        "Estado_civil = \"Union Libre\"\n",
        "print(Estado_civil)\n",
        "Num_hijos = 2\n",
        "print(Num_hijos)\n",
        "Estatura_cm = \"183 cm\"\n",
        "print(Estatura_cm)\n",
        "Fecha_Contratacion = \"15/06/2005\"\n",
        "print(Fecha_Contratacion)\n",
        "Sueldo_basico = \"525 USD\"\n",
        "print(Sueldo_basico)\n",
        "Dias_Laborados = 15\n",
        "print(Dias_Laborados)\n",
        "type(Nombres)"
      ]
    },
    {
      "cell_type": "markdown",
      "source": [
        "Mejoras Taller 1\n",
        "\n",
        "Taller 2:\n",
        "\n",
        "Dando continuidad con la primera entrega del proyecto, en esta oportunidad el estudiante debe realizar las siguientes validaciones utilizando la sentencia condicional IF.\n",
        "\n",
        "1 Si el empleado es mayor de 55 años disfrutará de un bono de prepensión correspondiente al 5% de su sueldo básico.\n",
        "\n",
        "2 Si el empleado es casado y tiene hijos se le otorgará un paseo cada diciembre\n",
        "\n",
        "3 Si el sueldo básico está entre 1000000 y 1500000 tendrá una comisión del 2% sobre el valor del sueldo; Si el sueldo básico está entre 1500001 y 2000000 tendrá una comisión del 5% sobre el valor del sueldo; para todos los demás casos no habrá comisión.\n",
        "\n",
        "4 Si el empleado trabajó más de 20 días al mes y su sueldo es menor a 1000000 tendrá derecho a un bono de alimentación.\n",
        "\n"
      ],
      "metadata": {
        "id": "ewYykaFNMyVm"
      }
    },
    {
      "cell_type": "code",
      "source": [
        "#@title Taller 1 ++\n",
        "NumIdentificacion = 12345678\n",
        "print(\"\\nNumero de Identificacion: {}\".format(NumIdentificacion))\n",
        "Nombres = \"Luis Giovanny\"\n",
        "Apellidos = \"Perez Bulla\"\n",
        "print(\"Nombre Completo: {} {}\".format(Nombres, Apellidos))\n",
        "Direccion = \"Cra 19 # 40 - 72\"\n",
        "print(\"Direccion: {}\".format(Direccion))\n",
        "Telefono = 310310310\n",
        "print(\"Telefono: {}\".format(Telefono))\n",
        "Estado_civil = (\"Casado\")\n",
        "print(\"Estado Civil: Casado\")\n",
        "Num_hijos = 2\n",
        "print(\"Numero de Hijos: {}\".format(Num_hijos))\n",
        "Estatura_cm = \"183 cm\"\n",
        "print(\"Estatura: {}\".format(Estatura_cm))\n",
        "Fecha_Contratacion = \"15/06/2005\"\n",
        "print(\"Fecha de Contratacion: {}\".format(Fecha_Contratacion))\n",
        "Sueldo_basico = 2116000\n",
        "print(\"Sueldo Basico: {}\".format(Sueldo_basico))\n",
        "Dias_Laborados = 19\n",
        "print(\"Dias Laborados: {}\".format(Dias_Laborados))\n",
        "\n",
        "edad = int(input(\"Digite su edad: \"))\n",
        "\n",
        "if edad > 55:\n",
        "  Bono = Sueldo_basico * 0.05\n",
        "  print(\"\\nValor del bono Prepension = ${:,.0f}\".format(Bono))\n",
        "  total = Bono + Sueldo_basico\n",
        "  print(\"\\nEl total del Salario mas el bono es = ${:,.0f}\".format(total))\n",
        "  \n",
        "  print(\"\\nGanaste bono Prepension del 5%\")\n",
        "else:\n",
        "  print(\"\\nNo Ganaste bono Prepension\")\n",
        "\n",
        "\n",
        "\n",
        "Num_hijos = 2\n",
        "if Num_hijos > 0:\n",
        "  print(\"Ganaste paseo Diciembre\")\n",
        "else:\n",
        "  print(\"No se cumple requisitos\")\n",
        "\n",
        "Sueldo = float(input(\"\\nDigite su Sueldo: $\"))\n",
        "\n",
        "if Sueldo >= 1000000 and Sueldo <= 1500000:\n",
        "  comi1 = Sueldo * 0.2\n",
        "  Sueldo_total = comi1 + Sueldo\n",
        "  print(\"\\nObtuviste una comision del 2% = ${:,.0f}\".format(Sueldo_total))\n",
        "elif Sueldo >= 1500001 and Sueldo <= 2000000:\n",
        "  comi2 = Sueldo * 0.5\n",
        "  Sueldo_total2 = comi2 + Sueldo\n",
        "  print(\"\\nObtuviste una comision del 2% = ${:,.0f}\".format(Sueldo_total2))\n",
        "else:\n",
        "  print(\"No obtienes comision\")\n",
        "\n",
        "if Dias_Laborados >= 20 and Sueldo <= 1000000:\n",
        "  print(\"Ganaste un bono de alimentacion\")\n",
        "else:\n",
        "  print(\"No ganaste bono de alimentacion\")\n",
        "\n",
        "if Num_hijos >= 1 and Estado_civil == \"casado\":\n",
        "  print(\"Ganaste Paseo en Diciembre\")\n",
        "else:\n",
        "  print(\"No ganaste paseo en diciembre\")\n"
      ],
      "metadata": {
        "colab": {
          "base_uri": "https://localhost:8080/"
        },
        "id": "1rrdERPyM1QL",
        "outputId": "b2e9e0f7-8746-4d13-955e-be08025c8890"
      },
      "execution_count": null,
      "outputs": [
        {
          "output_type": "stream",
          "name": "stdout",
          "text": [
            "\n",
            "Numero de Identificacion: 12345678\n",
            "Nombre Completo: Luis Giovanny Perez Bulla\n",
            "Direccion: Cra 19 # 40 - 72\n",
            "Telefono: 310310310\n",
            "Estado Civil: Casado\n",
            "Numero de Hijos: 2\n",
            "Estatura: 183 cm\n",
            "Fecha de Contratacion: 15/06/2005\n",
            "Sueldo Basico: 2116000\n",
            "Dias Laborados: 19\n",
            "Digite su edad: 56\n",
            "\n",
            "Valor del bono Prepension = $105,800\n",
            "\n",
            "El total del Salario mas el bono es = $2,221,800\n",
            "\n",
            "Ganaste bono Prepension del 5%\n",
            "Ganaste paseo Diciembre\n",
            "\n",
            "Digite su Sueldo: $2116000\n",
            "No obtienes comision\n",
            "No ganaste bono de alimentacion\n",
            "No ganaste paseo en diciembre\n"
          ]
        }
      ]
    }
  ]
}